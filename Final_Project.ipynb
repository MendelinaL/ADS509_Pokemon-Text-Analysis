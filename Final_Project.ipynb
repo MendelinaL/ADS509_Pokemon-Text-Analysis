{
 "cells": [
  {
   "attachments": {},
   "cell_type": "markdown",
   "metadata": {},
   "source": [
    "# Pokemon Classification"
   ]
  },
  {
   "attachments": {},
   "cell_type": "markdown",
   "metadata": {},
   "source": [
    "### Import Libraries"
   ]
  },
  {
   "cell_type": "code",
   "execution_count": 2,
   "metadata": {},
   "outputs": [],
   "source": [
    "import numpy as np\n",
    "import pandas as pd\n",
    "from pandas import isnull\n",
    "import config\n",
    "import json\n",
    "import requests\n",
    "from collections import defaultdict, Counter\n",
    "import time\n",
    "import random\n",
    "\n",
    "import os\n",
    "import re\n",
    "import emoji\n",
    "from nltk.corpus import stopwords\n",
    "from string import punctuation\n",
    "from wordcloud import WordCloud \n",
    "from matplotlib import pyplot as plt\n",
    "\n",
    "from sklearn.feature_extraction.text import TfidfTransformer, CountVectorizer\n",
    "\n",
    "\n",
    "\n",
    "from sklearn.preprocessing import LabelEncoder, MultiLabelBinarizer\n",
    "from sklearn.ensemble import RandomForestClassifier\n",
    "from sklearn.model_selection import train_test_split, GridSearchCV\n",
    "from sklearn.metrics import classification_report\n",
    "from sklearn.metrics import accuracy_score\n",
    "import joblib\n",
    "from sklearn import preprocessing\n",
    "from sklearn.naive_bayes import MultinomialNB\n",
    "from sklearn.feature_extraction.text import CountVectorizer\n"
   ]
  },
  {
   "attachments": {},
   "cell_type": "markdown",
   "metadata": {},
   "source": [
    "### API Request\n",
    "Source Documentation [https://pokeapi.co/docs/v2#pokemon, https://pokeapi.co/docs/v2#pokemon-colors]\n",
    "\n",
    "The data being pulled using the pokemon api are the pokemon statistics and characteristics. \n"
   ]
  },
  {
   "cell_type": "code",
   "execution_count": null,
   "metadata": {},
   "outputs": [],
   "source": [
    "api_url = \"https://pokeapi.co/api/v2/pokemon/\"\n",
    "params = {\"limit\": \"1281\"} # The total amount of pokemon\n",
    "pokemon_api = []\n",
    "res = requests.request(\"GET\", api_url, params=params)\n",
    "data = res.json()\n",
    "print(\"Pokemon and Pokemon APIs have been pulled\")\n",
    "for pokemon in data[\"results\"]:\n",
    "    for k, v in pokemon.items():\n",
    "        pokemon_api.append(v)\n",
    "print(\"List of Pokemon and Pokemon API have been created\")"
   ]
  },
  {
   "cell_type": "code",
   "execution_count": null,
   "metadata": {},
   "outputs": [],
   "source": [
    "# Separate Names and APIs into two lists\n",
    "pokemon_name = pokemon_api[::2]\n",
    "pokemon_API = pokemon_api[1::2]\n",
    "\n",
    "# Merge into a Dictionary with Pokemon Names as Key and APIs as Value\n",
    "pokemon_all = {}\n",
    "for key in pokemon_name:\n",
    "    for value in pokemon_API:\n",
    "        pokemon_all[key] = value\n",
    "        pokemon_API.remove(value)\n",
    "        break\n",
    "print(\"Dictionary of All Pokemon and Their APIs is: \", pokemon_all)"
   ]
  },
  {
   "cell_type": "code",
   "execution_count": null,
   "metadata": {},
   "outputs": [],
   "source": [
    "# List of all pokemon as well as the api url call\n",
    "pokemon_all"
   ]
  },
  {
   "cell_type": "code",
   "execution_count": null,
   "metadata": {},
   "outputs": [],
   "source": [
    "# Check to see if there are 1281 pokemon\n",
    "print(\"The number of pokemon called should be 1281: \", len(pokemon_all))"
   ]
  },
  {
   "cell_type": "code",
   "execution_count": null,
   "metadata": {},
   "outputs": [],
   "source": [
    "# Dictionary set up for Pokemon Statistics\n",
    "pokemon_data = defaultdict(list)\n",
    "\n",
    "for pokemon, api in pokemon_all.items() :\n",
    "    # request the page and sleep\n",
    "    r = requests.request(\"GET\", str(api))\n",
    "    time.sleep(5 + 10*random.random())\n",
    "\n",
    "    # Add to ensure that request was successful\n",
    "    #print(\"If 200, request was successful: \", r.status_code)\n",
    "\n",
    "    d = r.json()\n",
    "    pokemon_data[pokemon].append(d)\n"
   ]
  },
  {
   "cell_type": "code",
   "execution_count": null,
   "metadata": {},
   "outputs": [],
   "source": [
    "# API to pull Pokemon Colors\n",
    "\n",
    "color_api = \"https://pokeapi.co/api/v2/pokemon-color/\"\n",
    "res1 = requests.request(\"GET\", color_api)\n",
    "colors = []\n",
    "data1 = res1.json()\n",
    "for color in data1[\"results\"]:\n",
    "    for k, v in color.items():\n",
    "        colors.append(v)\n",
    "\n",
    "# Separate Names and APIs into two lists\n",
    "pokemon_color = colors[::2]\n",
    "pokemon_color_API = colors[1::2]"
   ]
  },
  {
   "cell_type": "code",
   "execution_count": null,
   "metadata": {},
   "outputs": [],
   "source": [
    "#Merge into a Dictionary with Pokemon Colors as Key and APIs as Value\n",
    "pokemon_colors = {}\n",
    "for key in pokemon_color:\n",
    "    for value in pokemon_color_API:\n",
    "        pokemon_colors[key] = value\n",
    "        pokemon_color_API.remove(value)\n",
    "        break\n",
    "print(\"Dictionary of All Pokemon Colors and Their APIs is: \", pokemon_colors)"
   ]
  },
  {
   "cell_type": "code",
   "execution_count": null,
   "metadata": {},
   "outputs": [],
   "source": [
    "# Dictionary set up for Pokemon Colors\n",
    "pokemon_colors_data = defaultdict(list)\n",
    "\n",
    "for color, api in pokemon_colors.items() :\n",
    "    # request the page and sleep\n",
    "    r = requests.request(\"GET\", str(api))\n",
    "    time.sleep(5 + 10*random.random())\n",
    "\n",
    "    # Add to ensure that request was successful\n",
    "    #print(\"If 200, request was successful: \", r.status_code)\n",
    "\n",
    "    d = r.json()\n",
    "    pokemon_colors_data[color].append(d)"
   ]
  },
  {
   "cell_type": "code",
   "execution_count": null,
   "metadata": {},
   "outputs": [],
   "source": [
    "print(len(pokemon_colors_data))"
   ]
  },
  {
   "attachments": {},
   "cell_type": "markdown",
   "metadata": {},
   "source": [
    "Export Pokemon Statistics API data to txt file to store data as the API call took about 7.5 hours.\n",
    "\n",
    "Export of Pokemon Colors API data to txt file to store data. API call time approx. 2 minutes."
   ]
  },
  {
   "cell_type": "code",
   "execution_count": null,
   "metadata": {},
   "outputs": [],
   "source": [
    "with open('Pokemon_Data.txt', 'w') as Pokemon_Data:\n",
    "     Pokemon_Data.write(json.dumps(pokemon_data))"
   ]
  },
  {
   "cell_type": "code",
   "execution_count": null,
   "metadata": {},
   "outputs": [],
   "source": [
    "with open('Pokemon_Colors.txt', 'w') as Pokemon_Colors:\n",
    "     Pokemon_Colors.write(json.dumps(pokemon_colors_data))"
   ]
  },
  {
   "attachments": {},
   "cell_type": "markdown",
   "metadata": {},
   "source": [
    "### Load Data"
   ]
  },
  {
   "cell_type": "code",
   "execution_count": null,
   "metadata": {},
   "outputs": [],
   "source": [
    "f = open('Pokemon_data.txt')\n",
    "data = json.load(f)\n",
    "print(len(data))"
   ]
  },
  {
   "cell_type": "code",
   "execution_count": null,
   "metadata": {},
   "outputs": [],
   "source": [
    "f1 = open('Pokemon_colors.txt')\n",
    "data1 = json.load(f1)\n",
    "print(len(data1))"
   ]
  },
  {
   "attachments": {},
   "cell_type": "markdown",
   "metadata": {},
   "source": [
    "### Data Ingestion and Pre-Processing"
   ]
  },
  {
   "cell_type": "code",
   "execution_count": null,
   "metadata": {},
   "outputs": [],
   "source": [
    "# Some punctuation variations\n",
    "punctuation = set(punctuation) # speeds up comparison\n",
    "tw_punct = punctuation - {'''#{}[]'''}\n",
    "\n",
    "# Stopwords\n",
    "sw = stopwords.words(\"english\")\n",
    "\n",
    "# Two useful regex\n",
    "whitespace_pattern = re.compile(r\"\\s+\")\n",
    "hashtag_pattern = re.compile(r\"^#[0-9a-zA-Z]+\")\n",
    "\n",
    "\n",
    "# and now our functions\n",
    "def descriptive_stats(tokens, num_words = 5, verbose=True) :\n",
    "    \"\"\"\n",
    "        Given a list of tokens, print number of tokens, number of unique tokens, \n",
    "        number of characters, lexical diversity (https://en.wikipedia.org/wiki/Lexical_diversity), \n",
    "        and num_tokens most common tokens. Return a list with the number of tokens, number\n",
    "        of unique tokens, lexical diversity, and number of characters. \n",
    "    \n",
    "    \"\"\"\n",
    "    \n",
    "    # Fill in the correct values here. \n",
    "    num_tokens = len(tokens)\n",
    "    num_unique_tokens = len(Counter(tokens).keys())\n",
    "    lexical_diversity = round((num_unique_tokens/num_tokens),2) # Rounded to 2 Digits to match format of existing decimal rounding below\n",
    "    num_characters = sum(len(i) for i in tokens)\n",
    "    most_common = Counter(tokens).most_common(num_words)\n",
    "    if verbose :        \n",
    "        print(f\"There are {num_tokens} tokens in the data.\")\n",
    "        print(f\"There are {num_unique_tokens} unique tokens in the data.\")\n",
    "        print(f\"There are {num_characters} characters in the data.\")\n",
    "        print(f\"The lexical diversity is {lexical_diversity:.3f} in the data.\")\n",
    "    \n",
    "        # print the five most common tokens\n",
    "        print(f\"The most common tokens are {most_common}.\")\n",
    "        \n",
    "    return\n",
    "\n",
    "# Removing URL's\n",
    "def remove_URL(text):\n",
    "    return re.sub(r\"'url ' : 'http\\S+\", \"\", text)\n",
    "\n",
    "def remove_stop(tokens) :\n",
    "    tokens = [file for file in tokens if file not in sw]\n",
    "    return(tokens)\n",
    " \n",
    "def remove_punctuation(text, punct_set=tw_punct) : \n",
    "    return(\"\".join([ch for ch in text if ch not in punct_set]))\n",
    "\n",
    "def tokenize(text) : \n",
    "    \"\"\" Splitting on whitespace rather than the book's tokenize function. That \n",
    "        function will drop tokens like '#hashtag' or '2A', which we need for Twitter. \"\"\"\n",
    "    \n",
    "    text = [file.lower().strip() for file in text.split()]\n",
    "\n",
    "    return(text)\n",
    "\n",
    "def prepare(text, pipeline) : \n",
    "    tokens = str(text)\n",
    "    \n",
    "    for transform in pipeline : \n",
    "        tokens = transform(tokens)\n",
    "        \n",
    "    return(tokens)"
   ]
  },
  {
   "cell_type": "code",
   "execution_count": null,
   "metadata": {},
   "outputs": [],
   "source": [
    "pokemon_list = []\n",
    "for pokemon in data:\n",
    "    for features in data[pokemon]:\n",
    "        #print(a) # a is the whole section of combined features\n",
    "        for feature, description in features.items():\n",
    "            # b is the dictionaries such as ability, weight, stats that are pulled\n",
    "            #print(c) # Farthest I can break down for now.\n",
    "            poke_dict = {'pokemon': pokemon, 'feature': feature, 'description': description}\n",
    "            pokemon_list.append(poke_dict)"
   ]
  },
  {
   "cell_type": "code",
   "execution_count": null,
   "metadata": {},
   "outputs": [],
   "source": [
    "my_pipeline = [str.lower,  remove_URL,tokenize, remove_punctuation, tokenize]\n",
    "cleaned_data = []\n",
    "for row in pokemon_list :\n",
    "    text = \" \".join(prepare(row, pipeline = my_pipeline))\n",
    "    if text :\n",
    "        cleaned_data.append(text)"
   ]
  },
  {
   "cell_type": "code",
   "execution_count": null,
   "metadata": {},
   "outputs": [],
   "source": [
    "df = pd.DataFrame.from_dict(pokemon_list)\n",
    "df"
   ]
  },
  {
   "cell_type": "code",
   "execution_count": null,
   "metadata": {},
   "outputs": [],
   "source": [
    "# Transpose Dataframe for Pokemon Statistics\n",
    "\n",
    "tdf = df.pivot(columns = 'feature', values = 'description', index = 'pokemon')\n",
    "tdf"
   ]
  },
  {
   "cell_type": "code",
   "execution_count": null,
   "metadata": {},
   "outputs": [],
   "source": [
    "# Reset Index as ID for the dataframe\n",
    "\n",
    "tdf.reset_index(inplace=True)\n",
    "tdf.set_index('id', inplace = True)\n",
    "tdf.info()"
   ]
  },
  {
   "cell_type": "code",
   "execution_count": null,
   "metadata": {},
   "outputs": [],
   "source": [
    "pokemon_colors_list = []\n",
    "for colors in data1:\n",
    "    for features in data1[colors]:\n",
    "        #print(a) # a is the whole section of combined features\n",
    "        for feature, description in features.items():\n",
    "            # b is the dictionaries such as ability, weight, stats that are pulled\n",
    "            #print(c) # Farthest I can break down for now.\n",
    "            poke_dict1 = {'color': colors, 'features': feature, 'descriptions': description}\n",
    "            pokemon_colors_list.append(poke_dict1)"
   ]
  },
  {
   "cell_type": "code",
   "execution_count": null,
   "metadata": {},
   "outputs": [],
   "source": [
    "# Transpose Dataframe\n",
    "\n",
    "df1 = pd.DataFrame.from_dict(pokemon_colors_list)\n",
    "cdf = df1.pivot(columns = 'features', values = 'descriptions', index = 'color')\n",
    "cdf"
   ]
  },
  {
   "cell_type": "code",
   "execution_count": null,
   "metadata": {},
   "outputs": [],
   "source": [
    "# Drop Unnecessary Columns\n",
    "\n",
    "cdf = cdf.drop(columns = ['id', 'names'])\n",
    "cdf = cdf.reset_index(drop = True)\n",
    "cdf.info()"
   ]
  },
  {
   "cell_type": "code",
   "execution_count": null,
   "metadata": {},
   "outputs": [],
   "source": [
    "cdf"
   ]
  },
  {
   "attachments": {},
   "cell_type": "markdown",
   "metadata": {},
   "source": [
    "### Descriptive Statistics"
   ]
  },
  {
   "cell_type": "code",
   "execution_count": null,
   "metadata": {},
   "outputs": [],
   "source": [
    "# Dictionary\n",
    "descriptive_stats(cleaned_data)"
   ]
  },
  {
   "cell_type": "code",
   "execution_count": null,
   "metadata": {},
   "outputs": [],
   "source": [
    "# DataFrame\n",
    "descriptive_stats(tdf)"
   ]
  },
  {
   "attachments": {},
   "cell_type": "markdown",
   "metadata": {},
   "source": [
    "### Data Cleaning"
   ]
  },
  {
   "attachments": {},
   "cell_type": "markdown",
   "metadata": {},
   "source": [
    "`Moves`, `Abilities`, and `Types` features have a list of dictionaries within each pokemon type. For getting it ready to model, cleaning is done to separate out the data to have a list of terms.\n"
   ]
  },
  {
   "cell_type": "code",
   "execution_count": null,
   "metadata": {},
   "outputs": [],
   "source": [
    "tdf"
   ]
  },
  {
   "attachments": {},
   "cell_type": "markdown",
   "metadata": {},
   "source": [
    "Clean Types into list of Types"
   ]
  },
  {
   "cell_type": "code",
   "execution_count": null,
   "metadata": {},
   "outputs": [],
   "source": [
    "pokemon_types = []\n",
    "for val in tdf['types']:\n",
    "    #print(val)\n",
    "    res = [sub['type'] for sub in val]\n",
    "    #print(res) # list of dictionaries of moves\n",
    "    results = [sub['name'] for sub in res]\n",
    "    #print(results) # Woo! Output of Moves\n",
    "    pokemon_types.append(results)"
   ]
  },
  {
   "cell_type": "code",
   "execution_count": null,
   "metadata": {},
   "outputs": [],
   "source": [
    "types_df = pd.DataFrame(columns = [\"types\"])\n",
    "poke_types = []\n",
    "for row in pokemon_types[:1281]:\n",
    "    row_dict = {'types': row}\n",
    "    poke_types.append(row_dict)\n",
    "\n",
    "types_df = pd.DataFrame.from_dict(poke_types)\n",
    "types_df.reset_index(drop=True)"
   ]
  },
  {
   "attachments": {},
   "cell_type": "markdown",
   "metadata": {},
   "source": [
    "Clean Abilities Column from List of Dictionaries into list of abilities"
   ]
  },
  {
   "cell_type": "code",
   "execution_count": null,
   "metadata": {},
   "outputs": [],
   "source": [
    "pokemon_abilities = []\n",
    "for val in tdf['abilities']:\n",
    "    #print(val)\n",
    "    res = [sub['ability'] for sub in val]\n",
    "    #print(res) # list of dictionaries of moves\n",
    "    results = [sub['name'] for sub in res]\n",
    "    #print(results) # Woo! Output of Moves\n",
    "    pokemon_abilities.append(results)"
   ]
  },
  {
   "cell_type": "code",
   "execution_count": null,
   "metadata": {},
   "outputs": [],
   "source": [
    "abilities_df = pd.DataFrame(columns = [\"abilities\"])\n",
    "poke_abilities = []\n",
    "for row in pokemon_abilities[:1281]:\n",
    "    row_dict = {'abilities': row}\n",
    "    poke_abilities.append(row_dict)\n",
    "\n",
    "abilities_df = pd.DataFrame.from_dict(poke_abilities)\n",
    "abilities_df.reset_index(drop=True)"
   ]
  },
  {
   "attachments": {},
   "cell_type": "markdown",
   "metadata": {},
   "source": [
    "Drop Old Abilities Column to prepare for Cleaned Abilities to Dataframe"
   ]
  },
  {
   "cell_type": "code",
   "execution_count": null,
   "metadata": {},
   "outputs": [],
   "source": [
    "tdf = tdf.drop(columns=['abilities'])"
   ]
  },
  {
   "attachments": {},
   "cell_type": "markdown",
   "metadata": {},
   "source": [
    "Clean moves into list of moves"
   ]
  },
  {
   "cell_type": "code",
   "execution_count": null,
   "metadata": {},
   "outputs": [],
   "source": [
    "pokemon_moves = []\n",
    "for val in tdf['moves']:\n",
    "    #print(val)\n",
    "    res = [sub['move'] for sub in val]\n",
    "    #print(res) # list of dictionaries of moves\n",
    "    results = [sub['name'] for sub in res]\n",
    "    #print(results) # Woo! Output of Moves\n",
    "    pokemon_moves.append(results)"
   ]
  },
  {
   "cell_type": "code",
   "execution_count": null,
   "metadata": {},
   "outputs": [],
   "source": [
    "moves_df = pd.DataFrame(columns = [\"moves\"])\n",
    "poke_moves = []\n",
    "for row in pokemon_moves[:1281]:\n",
    "    row_dict = {'moves': row}\n",
    "    poke_moves.append(row_dict)\n",
    "\n",
    "moves_df = pd.DataFrame.from_dict(poke_moves)\n",
    "moves_df.reset_index(drop=True)"
   ]
  },
  {
   "attachments": {},
   "cell_type": "markdown",
   "metadata": {},
   "source": [
    "Clean Game Indices"
   ]
  },
  {
   "cell_type": "code",
   "execution_count": null,
   "metadata": {},
   "outputs": [],
   "source": [
    "pokemon_game = []\n",
    "for val in tdf['game_indices']:\n",
    "    #print(val)\n",
    "    res = [sub['version'] for sub in val]\n",
    "    #print(res) # list of dictionaries of moves\n",
    "    results = [sub['name'] for sub in res]\n",
    "    #print(results) # Woo! Output of Moves\n",
    "    pokemon_game.append(results)"
   ]
  },
  {
   "cell_type": "code",
   "execution_count": null,
   "metadata": {},
   "outputs": [],
   "source": [
    "game_df = pd.DataFrame(columns = [\"pokemon_games\"])\n",
    "poke_game = []\n",
    "for row in pokemon_game[:1281]:\n",
    "    row_dict = {'pokemon_games': row}\n",
    "    poke_game.append(row_dict)\n",
    "\n",
    "game_df = pd.DataFrame.from_dict(poke_game)\n",
    "game_df.reset_index(drop=True)"
   ]
  },
  {
   "cell_type": "code",
   "execution_count": null,
   "metadata": {},
   "outputs": [],
   "source": [
    "tdf = tdf.reset_index(drop=True)"
   ]
  },
  {
   "cell_type": "code",
   "execution_count": null,
   "metadata": {},
   "outputs": [],
   "source": [
    "clean_df = pd.merge(tdf, abilities_df, left_index = True, right_index = True)\n",
    "clean_df = clean_df.drop(columns=['moves', 'types', 'game_indices'])\n",
    "clean_df = pd.merge(clean_df, moves_df, left_index = True, right_index = True)\n",
    "clean_df = pd.merge(clean_df, types_df, left_index = True, right_index = True)\n",
    "clean_df = pd.merge(clean_df, game_df, left_index = True, right_index = True)"
   ]
  },
  {
   "cell_type": "code",
   "execution_count": null,
   "metadata": {},
   "outputs": [],
   "source": [
    "clean_df = clean_df.drop(columns=['forms', 'held_items', 'is_default', 'location_area_encounters', 'past_types', 'species', 'sprites', 'stats'])\n",
    "clean_df"
   ]
  },
  {
   "cell_type": "code",
   "execution_count": null,
   "metadata": {},
   "outputs": [],
   "source": [
    "clean_df = clean_df.drop(columns = ['pokemon_games']) # Dropped since too many empty lists."
   ]
  },
  {
   "attachments": {},
   "cell_type": "markdown",
   "metadata": {},
   "source": [
    "#### Cleaning of Pokemon Colors and Species"
   ]
  },
  {
   "cell_type": "code",
   "execution_count": null,
   "metadata": {},
   "outputs": [],
   "source": [
    "pokemon = []\n",
    "for val in cdf['pokemon_species']:\n",
    "    # print(val.type) # Val is list\n",
    "    res = [sub['name'] for sub in val]\n",
    "    #print(res)\n",
    "    pokemon.append(res)"
   ]
  },
  {
   "cell_type": "code",
   "execution_count": null,
   "metadata": {},
   "outputs": [],
   "source": [
    "black = pokemon[0]\n",
    "blue = pokemon[1]\n",
    "brown = pokemon[2]\n",
    "gray = pokemon[3] \n",
    "green = pokemon[4]\n",
    "pink = pokemon[5]\n",
    "purple = pokemon[6]\n",
    "red = pokemon[7]\n",
    "white = pokemon[8]\n",
    "yellow = pokemon[9]"
   ]
  },
  {
   "cell_type": "code",
   "execution_count": null,
   "metadata": {},
   "outputs": [],
   "source": [
    "pokemon_colors = pd.DataFrame((list(zip(black, blue, brown, gray, green, pink, purple, red, white, yellow))), columns = ['black', 'blue', 'brown', 'gray', 'green', 'pink', 'purple', 'red', 'white', 'yellow'])\n",
    "pokemon_colors"
   ]
  },
  {
   "cell_type": "code",
   "execution_count": null,
   "metadata": {},
   "outputs": [],
   "source": [
    "# Transform Pokemon Colors Dataframe to have two columns, pokemon and color\n",
    "\n",
    "pokemon_colors = pokemon_colors.reset_index(inplace = False)\n",
    "\n",
    "pc_df = pokemon_colors.melt(id_vars='index', var_name='color', value_name='pokemon')\n",
    "print(pc_df.sample(5)) # Check to ensure that the melt was done correctly and colors still match with the pokemon"
   ]
  },
  {
   "attachments": {},
   "cell_type": "markdown",
   "metadata": {},
   "source": [
    "Merge Pokemon Colors to Pokemon Statistics Dataframe"
   ]
  },
  {
   "cell_type": "code",
   "execution_count": null,
   "metadata": {},
   "outputs": [],
   "source": [
    "final_df = pd.merge(clean_df, pc_df, on = 'pokemon')"
   ]
  },
  {
   "cell_type": "code",
   "execution_count": null,
   "metadata": {},
   "outputs": [],
   "source": [
    "clean_df"
   ]
  },
  {
   "cell_type": "code",
   "execution_count": null,
   "metadata": {},
   "outputs": [],
   "source": [
    "clean_df.to_csv('Cleaned_Data_No_Colors.csv')"
   ]
  },
  {
   "cell_type": "code",
   "execution_count": 17,
   "metadata": {},
   "outputs": [],
   "source": [
    "clean_df = pd.read_csv('Cleaned_Data_No_Colors.csv', index_col = [0])"
   ]
  },
  {
   "cell_type": "code",
   "execution_count": 18,
   "metadata": {},
   "outputs": [
    {
     "name": "stdout",
     "output_type": "stream",
     "text": [
      "<class 'pandas.core.frame.DataFrame'>\n",
      "Index: 1281 entries, 0 to 1280\n",
      "Data columns (total 9 columns):\n",
      " #   Column           Non-Null Count  Dtype  \n",
      "---  ------           --------------  -----  \n",
      " 0   pokemon          1281 non-null   object \n",
      " 1   base_experience  1126 non-null   float64\n",
      " 2   height           1281 non-null   int64  \n",
      " 3   name             1281 non-null   object \n",
      " 4   order            1281 non-null   int64  \n",
      " 5   weight           1281 non-null   int64  \n",
      " 6   abilities        1281 non-null   object \n",
      " 7   moves            1281 non-null   object \n",
      " 8   types            1281 non-null   object \n",
      "dtypes: float64(1), int64(3), object(5)\n",
      "memory usage: 100.1+ KB\n"
     ]
    }
   ],
   "source": [
    "clean_df.info()"
   ]
  },
  {
   "cell_type": "code",
   "execution_count": 19,
   "metadata": {},
   "outputs": [],
   "source": [
    "# Drop Missing Data and Remove Brackets\n",
    "\n",
    "clean_df = clean_df.dropna()\n",
    "\n",
    "clean_df['abilities'] = clean_df['abilities'].apply(lambda x: x[1:-1])\n",
    "clean_df['moves'] = clean_df['moves'].apply(lambda x: x[1:-1])\n",
    "clean_df['types'] = clean_df['types'].apply(lambda x: x[1:-1])\n"
   ]
  },
  {
   "cell_type": "code",
   "execution_count": 20,
   "metadata": {},
   "outputs": [
    {
     "name": "stdout",
     "output_type": "stream",
     "text": [
      "<class 'pandas.core.frame.DataFrame'>\n",
      "Index: 1126 entries, 0 to 1280\n",
      "Data columns (total 9 columns):\n",
      " #   Column           Non-Null Count  Dtype  \n",
      "---  ------           --------------  -----  \n",
      " 0   pokemon          1126 non-null   object \n",
      " 1   base_experience  1126 non-null   float64\n",
      " 2   height           1126 non-null   int64  \n",
      " 3   name             1126 non-null   object \n",
      " 4   order            1126 non-null   int64  \n",
      " 5   weight           1126 non-null   int64  \n",
      " 6   abilities        1126 non-null   object \n",
      " 7   moves            1126 non-null   object \n",
      " 8   types            1126 non-null   object \n",
      "dtypes: float64(1), int64(3), object(5)\n",
      "memory usage: 88.0+ KB\n"
     ]
    }
   ],
   "source": [
    "clean_df.info()"
   ]
  },
  {
   "cell_type": "code",
   "execution_count": 21,
   "metadata": {},
   "outputs": [],
   "source": [
    "clean_df.to_csv('Final_Data.csv')"
   ]
  },
  {
   "cell_type": "code",
   "execution_count": 22,
   "metadata": {},
   "outputs": [
    {
     "data": {
      "text/html": [
       "<div>\n",
       "<style scoped>\n",
       "    .dataframe tbody tr th:only-of-type {\n",
       "        vertical-align: middle;\n",
       "    }\n",
       "\n",
       "    .dataframe tbody tr th {\n",
       "        vertical-align: top;\n",
       "    }\n",
       "\n",
       "    .dataframe thead th {\n",
       "        text-align: right;\n",
       "    }\n",
       "</style>\n",
       "<table border=\"1\" class=\"dataframe\">\n",
       "  <thead>\n",
       "    <tr style=\"text-align: right;\">\n",
       "      <th></th>\n",
       "      <th>pokemon</th>\n",
       "      <th>base_experience</th>\n",
       "      <th>height</th>\n",
       "      <th>name</th>\n",
       "      <th>order</th>\n",
       "      <th>weight</th>\n",
       "      <th>abilities</th>\n",
       "      <th>moves</th>\n",
       "      <th>types</th>\n",
       "    </tr>\n",
       "  </thead>\n",
       "  <tbody>\n",
       "    <tr>\n",
       "      <th>0</th>\n",
       "      <td>abomasnow</td>\n",
       "      <td>173.0</td>\n",
       "      <td>22</td>\n",
       "      <td>abomasnow</td>\n",
       "      <td>585</td>\n",
       "      <td>1355</td>\n",
       "      <td>'snow-warning', 'soundproof'</td>\n",
       "      <td>'mega-punch', 'ice-punch', 'swords-dance', 'me...</td>\n",
       "      <td>'grass', 'ice'</td>\n",
       "    </tr>\n",
       "    <tr>\n",
       "      <th>1</th>\n",
       "      <td>abomasnow-mega</td>\n",
       "      <td>208.0</td>\n",
       "      <td>27</td>\n",
       "      <td>abomasnow-mega</td>\n",
       "      <td>586</td>\n",
       "      <td>1850</td>\n",
       "      <td>'snow-warning'</td>\n",
       "      <td>'ice-punch', 'swords-dance', 'leer', 'mist', '...</td>\n",
       "      <td>'grass', 'ice'</td>\n",
       "    </tr>\n",
       "    <tr>\n",
       "      <th>2</th>\n",
       "      <td>abra</td>\n",
       "      <td>62.0</td>\n",
       "      <td>9</td>\n",
       "      <td>abra</td>\n",
       "      <td>103</td>\n",
       "      <td>195</td>\n",
       "      <td>'synchronize', 'inner-focus', 'magic-guard'</td>\n",
       "      <td>'mega-punch', 'fire-punch', 'ice-punch', 'thun...</td>\n",
       "      <td>'psychic'</td>\n",
       "    </tr>\n",
       "    <tr>\n",
       "      <th>3</th>\n",
       "      <td>absol</td>\n",
       "      <td>163.0</td>\n",
       "      <td>12</td>\n",
       "      <td>absol</td>\n",
       "      <td>478</td>\n",
       "      <td>470</td>\n",
       "      <td>'pressure', 'super-luck', 'justified'</td>\n",
       "      <td>'scratch', 'razor-wind', 'swords-dance', 'cut'...</td>\n",
       "      <td>'dark'</td>\n",
       "    </tr>\n",
       "    <tr>\n",
       "      <th>4</th>\n",
       "      <td>absol-mega</td>\n",
       "      <td>198.0</td>\n",
       "      <td>12</td>\n",
       "      <td>absol-mega</td>\n",
       "      <td>479</td>\n",
       "      <td>490</td>\n",
       "      <td>'magic-bounce'</td>\n",
       "      <td>'scratch', 'razor-wind', 'swords-dance', 'cut'...</td>\n",
       "      <td>'dark'</td>\n",
       "    </tr>\n",
       "    <tr>\n",
       "      <th>...</th>\n",
       "      <td>...</td>\n",
       "      <td>...</td>\n",
       "      <td>...</td>\n",
       "      <td>...</td>\n",
       "      <td>...</td>\n",
       "      <td>...</td>\n",
       "      <td>...</td>\n",
       "      <td>...</td>\n",
       "      <td>...</td>\n",
       "    </tr>\n",
       "    <tr>\n",
       "      <th>1276</th>\n",
       "      <td>zygarde-10</td>\n",
       "      <td>243.0</td>\n",
       "      <td>12</td>\n",
       "      <td>zygarde-10</td>\n",
       "      <td>859</td>\n",
       "      <td>335</td>\n",
       "      <td>'aura-break'</td>\n",
       "      <td>'bind', 'body-slam', 'bite', 'hyper-beam', 'ea...</td>\n",
       "      <td>'dragon', 'ground'</td>\n",
       "    </tr>\n",
       "    <tr>\n",
       "      <th>1277</th>\n",
       "      <td>zygarde-10-power-construct</td>\n",
       "      <td>243.0</td>\n",
       "      <td>12</td>\n",
       "      <td>zygarde-10-power-construct</td>\n",
       "      <td>860</td>\n",
       "      <td>335</td>\n",
       "      <td>'power-construct'</td>\n",
       "      <td>'bind', 'body-slam', 'bite', 'hyper-beam', 'ea...</td>\n",
       "      <td>'dragon', 'ground'</td>\n",
       "    </tr>\n",
       "    <tr>\n",
       "      <th>1278</th>\n",
       "      <td>zygarde-50</td>\n",
       "      <td>300.0</td>\n",
       "      <td>50</td>\n",
       "      <td>zygarde-50</td>\n",
       "      <td>858</td>\n",
       "      <td>3050</td>\n",
       "      <td>'aura-break'</td>\n",
       "      <td>'bind', 'body-slam', 'bite', 'hyper-beam', 'st...</td>\n",
       "      <td>'dragon', 'ground'</td>\n",
       "    </tr>\n",
       "    <tr>\n",
       "      <th>1279</th>\n",
       "      <td>zygarde-50-power-construct</td>\n",
       "      <td>300.0</td>\n",
       "      <td>50</td>\n",
       "      <td>zygarde-50-power-construct</td>\n",
       "      <td>861</td>\n",
       "      <td>3050</td>\n",
       "      <td>'power-construct'</td>\n",
       "      <td>'bind', 'body-slam', 'bite', 'hyper-beam', 'ea...</td>\n",
       "      <td>'dragon', 'ground'</td>\n",
       "    </tr>\n",
       "    <tr>\n",
       "      <th>1280</th>\n",
       "      <td>zygarde-complete</td>\n",
       "      <td>354.0</td>\n",
       "      <td>45</td>\n",
       "      <td>zygarde-complete</td>\n",
       "      <td>862</td>\n",
       "      <td>6100</td>\n",
       "      <td>'power-construct'</td>\n",
       "      <td>'bind', 'body-slam', 'bite', 'hyper-beam', 'ea...</td>\n",
       "      <td>'dragon', 'ground'</td>\n",
       "    </tr>\n",
       "  </tbody>\n",
       "</table>\n",
       "<p>1126 rows × 9 columns</p>\n",
       "</div>"
      ],
      "text/plain": [
       "                         pokemon  base_experience  height  \\\n",
       "0                      abomasnow            173.0      22   \n",
       "1                 abomasnow-mega            208.0      27   \n",
       "2                           abra             62.0       9   \n",
       "3                          absol            163.0      12   \n",
       "4                     absol-mega            198.0      12   \n",
       "...                          ...              ...     ...   \n",
       "1276                  zygarde-10            243.0      12   \n",
       "1277  zygarde-10-power-construct            243.0      12   \n",
       "1278                  zygarde-50            300.0      50   \n",
       "1279  zygarde-50-power-construct            300.0      50   \n",
       "1280            zygarde-complete            354.0      45   \n",
       "\n",
       "                            name  order  weight  \\\n",
       "0                      abomasnow    585    1355   \n",
       "1                 abomasnow-mega    586    1850   \n",
       "2                           abra    103     195   \n",
       "3                          absol    478     470   \n",
       "4                     absol-mega    479     490   \n",
       "...                          ...    ...     ...   \n",
       "1276                  zygarde-10    859     335   \n",
       "1277  zygarde-10-power-construct    860     335   \n",
       "1278                  zygarde-50    858    3050   \n",
       "1279  zygarde-50-power-construct    861    3050   \n",
       "1280            zygarde-complete    862    6100   \n",
       "\n",
       "                                        abilities  \\\n",
       "0                    'snow-warning', 'soundproof'   \n",
       "1                                  'snow-warning'   \n",
       "2     'synchronize', 'inner-focus', 'magic-guard'   \n",
       "3           'pressure', 'super-luck', 'justified'   \n",
       "4                                  'magic-bounce'   \n",
       "...                                           ...   \n",
       "1276                                 'aura-break'   \n",
       "1277                            'power-construct'   \n",
       "1278                                 'aura-break'   \n",
       "1279                            'power-construct'   \n",
       "1280                            'power-construct'   \n",
       "\n",
       "                                                  moves               types  \n",
       "0     'mega-punch', 'ice-punch', 'swords-dance', 'me...      'grass', 'ice'  \n",
       "1     'ice-punch', 'swords-dance', 'leer', 'mist', '...      'grass', 'ice'  \n",
       "2     'mega-punch', 'fire-punch', 'ice-punch', 'thun...           'psychic'  \n",
       "3     'scratch', 'razor-wind', 'swords-dance', 'cut'...              'dark'  \n",
       "4     'scratch', 'razor-wind', 'swords-dance', 'cut'...              'dark'  \n",
       "...                                                 ...                 ...  \n",
       "1276  'bind', 'body-slam', 'bite', 'hyper-beam', 'ea...  'dragon', 'ground'  \n",
       "1277  'bind', 'body-slam', 'bite', 'hyper-beam', 'ea...  'dragon', 'ground'  \n",
       "1278  'bind', 'body-slam', 'bite', 'hyper-beam', 'st...  'dragon', 'ground'  \n",
       "1279  'bind', 'body-slam', 'bite', 'hyper-beam', 'ea...  'dragon', 'ground'  \n",
       "1280  'bind', 'body-slam', 'bite', 'hyper-beam', 'ea...  'dragon', 'ground'  \n",
       "\n",
       "[1126 rows x 9 columns]"
      ]
     },
     "execution_count": 22,
     "metadata": {},
     "output_type": "execute_result"
    }
   ],
   "source": [
    "clean_df"
   ]
  },
  {
   "cell_type": "code",
   "execution_count": 23,
   "metadata": {},
   "outputs": [
    {
     "name": "stdout",
     "output_type": "stream",
     "text": [
      "[\"'grass', 'ice'\" \"'psychic'\" \"'dark'\" \"'bug'\" \"'steel', 'ghost'\"\n",
      " \"'rock', 'flying'\" \"'steel', 'rock'\" \"'steel'\" \"'normal'\" \"'fairy'\"\n",
      " \"'water'\" \"'dragon', 'flying'\" \"'dragon', 'fairy'\" \"'rock', 'ice'\"\n",
      " \"'grass', 'poison'\" \"'electric'\" \"'electric', 'dragon'\" \"'rock', 'bug'\"\n",
      " \"'grass', 'dragon'\" \"'water', 'bug'\" \"'poison'\" \"'fire'\" \"'water', 'ice'\"\n",
      " \"'electric', 'ice'\" \"'bug', 'poison'\" \"'ice', 'flying'\"\n",
      " \"'psychic', 'flying'\" \"'normal', 'fairy'\" \"'ice'\" \"'dragon'\"\n",
      " \"'water', 'fairy'\" \"'ground', 'psychic'\" \"'ghost'\" \"'rock', 'water'\"\n",
      " \"'water', 'ground'\" \"'rock', 'steel'\" \"'grass'\" \"'bug', 'flying'\"\n",
      " \"'steel', 'psychic'\" \"'normal', 'fighting'\" \"'normal', 'water'\"\n",
      " \"'dark', 'steel'\" \"'fire', 'ghost'\" \"'fire', 'fighting'\" \"'rock'\"\n",
      " \"'normal', 'flying'\" \"'grass', 'fighting'\" \"'water', 'psychic'\"\n",
      " \"'bug', 'fighting'\" \"'grass', 'dark'\" \"'psychic', 'grass'\"\n",
      " \"'psychic', 'ice'\" \"'psychic', 'ghost'\" \"'fire', 'ground'\"\n",
      " \"'rock', 'fairy'\" \"'rock', 'fire'\" \"'water', 'rock'\" \"'water', 'dark'\"\n",
      " \"'steel', 'flying'\" \"'fire', 'bug'\" \"'ghost', 'fire'\" \"'fire', 'flying'\"\n",
      " \"'fire', 'dragon'\" \"'bug', 'electric'\" \"'water', 'electric'\" \"'fighting'\"\n",
      " \"'steel', 'fighting'\" \"'flying', 'steel'\" \"'flying'\" \"'grass', 'fairy'\"\n",
      " \"'fighting', 'ice'\" \"'rock', 'grass'\" \"'flying', 'water'\"\n",
      " \"'poison', 'fighting'\" \"'poison', 'flying'\" \"'bug', 'rock'\" \"'ground'\"\n",
      " \"'bug', 'fairy'\" \"'ice', 'fire'\" \"'fire', 'psychic'\" \"'grass', 'flying'\"\n",
      " \"'grass', 'ghost'\" \"'electric', 'fairy'\" \"'normal', 'grass'\"\n",
      " \"'dark', 'dragon'\" \"'ghost', 'grass'\" \"'steel', 'dragon'\"\n",
      " \"'normal', 'ground'\" \"'ground', 'steel'\" \"'bug', 'psychic'\"\n",
      " \"'water', 'dragon'\" \"'poison', 'dragon'\" \"'dragon', 'ghost'\"\n",
      " \"'normal', 'dragon'\" \"'poison', 'dark'\" \"'ghost', 'flying'\"\n",
      " \"'water', 'flying'\" \"'bug', 'steel'\" \"'electric', 'flying'\"\n",
      " \"'water', 'steel'\" \"'grass', 'psychic'\" \"'grass', 'steel'\"\n",
      " \"'ground', 'dragon'\" \"'water', 'ghost'\" \"'ice', 'ghost'\" \"'ice', 'bug'\"\n",
      " \"'dragon', 'ground'\" \"'psychic', 'fighting'\" \"'psychic', 'fairy'\"\n",
      " \"'ghost', 'poison'\" \"'rock', 'ground'\" \"'rock', 'electric'\"\n",
      " \"'normal', 'psychic'\" \"'ghost', 'dragon'\" \"'ground', 'flying'\"\n",
      " \"'ground', 'ghost'\" \"'bug', 'water'\" \"'dark', 'fairy'\" \"'ground', 'fire'\"\n",
      " \"'dragon', 'fighting'\" \"'fighting', 'flying'\" \"'fire', 'steel'\"\n",
      " \"'electric', 'normal'\" \"'dark', 'flying'\" \"'psychic', 'dark'\"\n",
      " \"'dark', 'fire'\" \"'fire', 'dark'\" \"'psychic', 'normal'\"\n",
      " \"'dark', 'psychic'\" \"'ice', 'psychic'\" \"'water', 'fighting'\"\n",
      " \"'steel', 'fairy'\" \"'ground', 'dark'\" \"'dragon', 'ice'\" \"'bug', 'fire'\"\n",
      " \"'dragon', 'psychic'\" \"'bug', 'grass'\" \"'dark', 'normal'\"\n",
      " \"'fire', 'normal'\" \"'water', 'grass'\" \"'fighting', 'steel'\"\n",
      " \"'rock', 'psychic'\" \"'fire', 'rock'\" \"'electric', 'steel'\"\n",
      " \"'ice', 'ground'\" \"'poison', 'water'\" \"'fighting', 'ghost'\"\n",
      " \"'fighting', 'psychic'\" \"'ghost', 'fairy'\" \"'electric', 'dark'\"\n",
      " \"'psychic', 'steel'\" \"'psychic', 'dragon'\" \"'poison', 'ground'\"\n",
      " \"'rock', 'poison'\" \"'bug', 'ground'\" \"'ice', 'fairy'\"\n",
      " \"'flying', 'dragon'\" \"'ghost', 'ground'\" \"'fighting', 'dark'\"\n",
      " \"'water', 'poison'\" \"'electric', 'psychic'\" \"'dragon', 'fire'\"\n",
      " \"'ground', 'rock'\" \"'electric', 'ghost'\" \"'electric', 'fire'\"\n",
      " \"'electric', 'grass'\" \"'electric', 'water'\" \"'dark', 'ghost'\"\n",
      " \"'poison', 'fire'\" \"'ice', 'steel'\" \"'dark', 'fighting'\" \"'ice', 'water'\"\n",
      " \"'bug', 'ghost'\" \"'poison', 'bug'\" \"'poison', 'psychic'\" \"'dark', 'ice'\"\n",
      " \"'ghost', 'dark'\" \"'steel', 'ground'\" \"'ground', 'electric'\"\n",
      " \"'rock', 'fighting'\" \"'fairy', 'flying'\" \"'grass', 'ground'\"\n",
      " \"'electric', 'poison'\" \"'rock', 'dark'\" \"'rock', 'dragon'\"\n",
      " \"'fighting', 'water'\" \"'psychic', 'fire'\" \"'fire', 'water'\"\n",
      " \"'poison', 'fairy'\" \"'fairy', 'steel'\" \"'dark', 'grass'\"\n",
      " \"'dragon', 'electric'\"]\n"
     ]
    }
   ],
   "source": [
    "y_df = clean_df['types']\n",
    "print(y_df.unique())"
   ]
  },
  {
   "cell_type": "code",
   "execution_count": null,
   "metadata": {},
   "outputs": [],
   "source": [
    "#types = ['grass', 'ice', 'psychic', 'dark', 'bug', 'steel', 'ghost', 'rock', 'flying', 'fairy', 'dragon', 'fire', 'water', 'poison', 'normal', 'fighting']"
   ]
  },
  {
   "cell_type": "code",
   "execution_count": null,
   "metadata": {},
   "outputs": [],
   "source": [
    "y_df = y_df.to_frame()"
   ]
  },
  {
   "cell_type": "code",
   "execution_count": null,
   "metadata": {},
   "outputs": [],
   "source": [
    "y_df['tokens'] = y_df['types'].apply(prepare, pipeline = my_pipeline)\n",
    "y_df['num_tokens'] = y_df['tokens'].map(len) "
   ]
  },
  {
   "cell_type": "code",
   "execution_count": null,
   "metadata": {},
   "outputs": [],
   "source": [
    "types_corpus = [x for y in y_df['tokens'] for x in y]"
   ]
  },
  {
   "cell_type": "code",
   "execution_count": null,
   "metadata": {},
   "outputs": [],
   "source": [
    "# Most Common Pokemon Types \n",
    "\n",
    "tc = Counter(types_corpus)\n",
    "\n",
    "for k, v in tc.most_common(5):\n",
    "    print('%s: %i' % (k, v))"
   ]
  },
  {
   "attachments": {},
   "cell_type": "markdown",
   "metadata": {},
   "source": [
    "### Build Corpora and Word Clouds"
   ]
  },
  {
   "cell_type": "code",
   "execution_count": null,
   "metadata": {},
   "outputs": [],
   "source": [
    "# Combine all text into one large corpus\n",
    "clean_df['corpus'] = clean_df[['pokemon','abilities', 'moves','types']].agg(' '.join, axis = 1)"
   ]
  },
  {
   "cell_type": "code",
   "execution_count": null,
   "metadata": {},
   "outputs": [],
   "source": [
    "my_pipeline = [str.lower, remove_punctuation, tokenize, remove_stop]\n",
    "\n",
    "clean_df['tokens'] = clean_df['corpus'].apply(prepare,pipeline=my_pipeline)\n",
    "clean_df['num_tokens'] = clean_df['tokens'].map(len) "
   ]
  },
  {
   "cell_type": "code",
   "execution_count": null,
   "metadata": {},
   "outputs": [],
   "source": [
    "cleantext_df = clean_df\n",
    "cleantext_df = cleantext_df.drop(columns = ['base_experience', 'height', 'order', 'weight'])"
   ]
  },
  {
   "cell_type": "code",
   "execution_count": null,
   "metadata": {},
   "outputs": [],
   "source": [
    "pokemon_corpus = [x for y in clean_df['tokens'] for x in y]\n",
    "pokemon_corpus"
   ]
  },
  {
   "cell_type": "code",
   "execution_count": null,
   "metadata": {},
   "outputs": [],
   "source": [
    "# Most common words\n",
    "\n",
    "pc = Counter(pokemon_corpus)\n",
    "\n",
    "for k, v in pc.most_common(10):\n",
    "    print('%s: %i' % (k, v))"
   ]
  },
  {
   "cell_type": "code",
   "execution_count": null,
   "metadata": {},
   "outputs": [],
   "source": [
    "from matplotlib import pyplot as plt\n",
    "\n",
    "def wordcloud(word_freq, title=None, max_words=200, stopwords=None):\n",
    "\n",
    "    wc = WordCloud(width=800, height=400, \n",
    "                   background_color= \"black\", colormap=\"Paired\", \n",
    "                   max_font_size=150, max_words=max_words)\n",
    "    \n",
    "    # convert data frame into dict\n",
    "    if type(word_freq) == pd.Series:\n",
    "        counter = Counter(word_freq.fillna(0).to_dict())\n",
    "    else:\n",
    "        counter = word_freq\n",
    "\n",
    "    # filter stop words in frequency counter\n",
    "    if sw is not None:\n",
    "        counter = {token:freq for (token, freq) in counter.items() \n",
    "                              if token not in sw}\n",
    "    wc.generate_from_frequencies(counter)\n",
    " \n",
    "    plt.title(title) \n",
    "\n",
    "    plt.imshow(wc, interpolation='bilinear')\n",
    "    plt.axis(\"off\")\n",
    "    \n",
    "    \n",
    "def count_words(df, column='tokens', preprocess=None, min_freq=2):\n",
    "\n",
    "    # process tokens and update counter\n",
    "    def update(doc):\n",
    "        tokens = doc if preprocess is None else preprocess(doc)\n",
    "        counter.update(tokens)\n",
    "\n",
    "    # create counter and run through all data\n",
    "    counter = Counter()\n",
    "    df[column].map(update)\n",
    "\n",
    "    # transform counter into data frame\n",
    "    freq_df = pd.DataFrame.from_dict(counter, orient='index', columns=['freq'])\n",
    "    freq_df = freq_df.query('freq >= @min_freq')\n",
    "    freq_df.index.name = 'token'\n",
    "    \n",
    "    return freq_df.sort_values('freq', ascending=False)"
   ]
  },
  {
   "cell_type": "code",
   "execution_count": null,
   "metadata": {},
   "outputs": [],
   "source": [
    "word_count = count_words(cleantext_df)"
   ]
  },
  {
   "cell_type": "code",
   "execution_count": null,
   "metadata": {},
   "outputs": [],
   "source": [
    "# Build Word Clouds for Corpus\n",
    "\n",
    "print('''Pokemon Word Cloud''')\n",
    "wordcloud(word_count.freq)"
   ]
  },
  {
   "attachments": {},
   "cell_type": "markdown",
   "metadata": {},
   "source": [
    "### Modeling"
   ]
  },
  {
   "cell_type": "code",
   "execution_count": 24,
   "metadata": {},
   "outputs": [
    {
     "data": {
      "text/html": [
       "<div>\n",
       "<style scoped>\n",
       "    .dataframe tbody tr th:only-of-type {\n",
       "        vertical-align: middle;\n",
       "    }\n",
       "\n",
       "    .dataframe tbody tr th {\n",
       "        vertical-align: top;\n",
       "    }\n",
       "\n",
       "    .dataframe thead th {\n",
       "        text-align: right;\n",
       "    }\n",
       "</style>\n",
       "<table border=\"1\" class=\"dataframe\">\n",
       "  <thead>\n",
       "    <tr style=\"text-align: right;\">\n",
       "      <th></th>\n",
       "      <th>pokemon</th>\n",
       "      <th>base_experience</th>\n",
       "      <th>height</th>\n",
       "      <th>name</th>\n",
       "      <th>order</th>\n",
       "      <th>weight</th>\n",
       "      <th>abilities</th>\n",
       "      <th>moves</th>\n",
       "      <th>types</th>\n",
       "    </tr>\n",
       "  </thead>\n",
       "  <tbody>\n",
       "    <tr>\n",
       "      <th>0</th>\n",
       "      <td>abomasnow</td>\n",
       "      <td>173.0</td>\n",
       "      <td>22</td>\n",
       "      <td>abomasnow</td>\n",
       "      <td>585</td>\n",
       "      <td>1355</td>\n",
       "      <td>'snow-warning', 'soundproof'</td>\n",
       "      <td>'mega-punch', 'ice-punch', 'swords-dance', 'me...</td>\n",
       "      <td>'grass', 'ice'</td>\n",
       "    </tr>\n",
       "    <tr>\n",
       "      <th>1</th>\n",
       "      <td>abomasnow-mega</td>\n",
       "      <td>208.0</td>\n",
       "      <td>27</td>\n",
       "      <td>abomasnow-mega</td>\n",
       "      <td>586</td>\n",
       "      <td>1850</td>\n",
       "      <td>'snow-warning'</td>\n",
       "      <td>'ice-punch', 'swords-dance', 'leer', 'mist', '...</td>\n",
       "      <td>'grass', 'ice'</td>\n",
       "    </tr>\n",
       "    <tr>\n",
       "      <th>2</th>\n",
       "      <td>abra</td>\n",
       "      <td>62.0</td>\n",
       "      <td>9</td>\n",
       "      <td>abra</td>\n",
       "      <td>103</td>\n",
       "      <td>195</td>\n",
       "      <td>'synchronize', 'inner-focus', 'magic-guard'</td>\n",
       "      <td>'mega-punch', 'fire-punch', 'ice-punch', 'thun...</td>\n",
       "      <td>'psychic'</td>\n",
       "    </tr>\n",
       "    <tr>\n",
       "      <th>3</th>\n",
       "      <td>absol</td>\n",
       "      <td>163.0</td>\n",
       "      <td>12</td>\n",
       "      <td>absol</td>\n",
       "      <td>478</td>\n",
       "      <td>470</td>\n",
       "      <td>'pressure', 'super-luck', 'justified'</td>\n",
       "      <td>'scratch', 'razor-wind', 'swords-dance', 'cut'...</td>\n",
       "      <td>'dark'</td>\n",
       "    </tr>\n",
       "    <tr>\n",
       "      <th>4</th>\n",
       "      <td>absol-mega</td>\n",
       "      <td>198.0</td>\n",
       "      <td>12</td>\n",
       "      <td>absol-mega</td>\n",
       "      <td>479</td>\n",
       "      <td>490</td>\n",
       "      <td>'magic-bounce'</td>\n",
       "      <td>'scratch', 'razor-wind', 'swords-dance', 'cut'...</td>\n",
       "      <td>'dark'</td>\n",
       "    </tr>\n",
       "    <tr>\n",
       "      <th>...</th>\n",
       "      <td>...</td>\n",
       "      <td>...</td>\n",
       "      <td>...</td>\n",
       "      <td>...</td>\n",
       "      <td>...</td>\n",
       "      <td>...</td>\n",
       "      <td>...</td>\n",
       "      <td>...</td>\n",
       "      <td>...</td>\n",
       "    </tr>\n",
       "    <tr>\n",
       "      <th>1276</th>\n",
       "      <td>zygarde-10</td>\n",
       "      <td>243.0</td>\n",
       "      <td>12</td>\n",
       "      <td>zygarde-10</td>\n",
       "      <td>859</td>\n",
       "      <td>335</td>\n",
       "      <td>'aura-break'</td>\n",
       "      <td>'bind', 'body-slam', 'bite', 'hyper-beam', 'ea...</td>\n",
       "      <td>'dragon', 'ground'</td>\n",
       "    </tr>\n",
       "    <tr>\n",
       "      <th>1277</th>\n",
       "      <td>zygarde-10-power-construct</td>\n",
       "      <td>243.0</td>\n",
       "      <td>12</td>\n",
       "      <td>zygarde-10-power-construct</td>\n",
       "      <td>860</td>\n",
       "      <td>335</td>\n",
       "      <td>'power-construct'</td>\n",
       "      <td>'bind', 'body-slam', 'bite', 'hyper-beam', 'ea...</td>\n",
       "      <td>'dragon', 'ground'</td>\n",
       "    </tr>\n",
       "    <tr>\n",
       "      <th>1278</th>\n",
       "      <td>zygarde-50</td>\n",
       "      <td>300.0</td>\n",
       "      <td>50</td>\n",
       "      <td>zygarde-50</td>\n",
       "      <td>858</td>\n",
       "      <td>3050</td>\n",
       "      <td>'aura-break'</td>\n",
       "      <td>'bind', 'body-slam', 'bite', 'hyper-beam', 'st...</td>\n",
       "      <td>'dragon', 'ground'</td>\n",
       "    </tr>\n",
       "    <tr>\n",
       "      <th>1279</th>\n",
       "      <td>zygarde-50-power-construct</td>\n",
       "      <td>300.0</td>\n",
       "      <td>50</td>\n",
       "      <td>zygarde-50-power-construct</td>\n",
       "      <td>861</td>\n",
       "      <td>3050</td>\n",
       "      <td>'power-construct'</td>\n",
       "      <td>'bind', 'body-slam', 'bite', 'hyper-beam', 'ea...</td>\n",
       "      <td>'dragon', 'ground'</td>\n",
       "    </tr>\n",
       "    <tr>\n",
       "      <th>1280</th>\n",
       "      <td>zygarde-complete</td>\n",
       "      <td>354.0</td>\n",
       "      <td>45</td>\n",
       "      <td>zygarde-complete</td>\n",
       "      <td>862</td>\n",
       "      <td>6100</td>\n",
       "      <td>'power-construct'</td>\n",
       "      <td>'bind', 'body-slam', 'bite', 'hyper-beam', 'ea...</td>\n",
       "      <td>'dragon', 'ground'</td>\n",
       "    </tr>\n",
       "  </tbody>\n",
       "</table>\n",
       "<p>1126 rows × 9 columns</p>\n",
       "</div>"
      ],
      "text/plain": [
       "                         pokemon  base_experience  height  \\\n",
       "0                      abomasnow            173.0      22   \n",
       "1                 abomasnow-mega            208.0      27   \n",
       "2                           abra             62.0       9   \n",
       "3                          absol            163.0      12   \n",
       "4                     absol-mega            198.0      12   \n",
       "...                          ...              ...     ...   \n",
       "1276                  zygarde-10            243.0      12   \n",
       "1277  zygarde-10-power-construct            243.0      12   \n",
       "1278                  zygarde-50            300.0      50   \n",
       "1279  zygarde-50-power-construct            300.0      50   \n",
       "1280            zygarde-complete            354.0      45   \n",
       "\n",
       "                            name  order  weight  \\\n",
       "0                      abomasnow    585    1355   \n",
       "1                 abomasnow-mega    586    1850   \n",
       "2                           abra    103     195   \n",
       "3                          absol    478     470   \n",
       "4                     absol-mega    479     490   \n",
       "...                          ...    ...     ...   \n",
       "1276                  zygarde-10    859     335   \n",
       "1277  zygarde-10-power-construct    860     335   \n",
       "1278                  zygarde-50    858    3050   \n",
       "1279  zygarde-50-power-construct    861    3050   \n",
       "1280            zygarde-complete    862    6100   \n",
       "\n",
       "                                        abilities  \\\n",
       "0                    'snow-warning', 'soundproof'   \n",
       "1                                  'snow-warning'   \n",
       "2     'synchronize', 'inner-focus', 'magic-guard'   \n",
       "3           'pressure', 'super-luck', 'justified'   \n",
       "4                                  'magic-bounce'   \n",
       "...                                           ...   \n",
       "1276                                 'aura-break'   \n",
       "1277                            'power-construct'   \n",
       "1278                                 'aura-break'   \n",
       "1279                            'power-construct'   \n",
       "1280                            'power-construct'   \n",
       "\n",
       "                                                  moves               types  \n",
       "0     'mega-punch', 'ice-punch', 'swords-dance', 'me...      'grass', 'ice'  \n",
       "1     'ice-punch', 'swords-dance', 'leer', 'mist', '...      'grass', 'ice'  \n",
       "2     'mega-punch', 'fire-punch', 'ice-punch', 'thun...           'psychic'  \n",
       "3     'scratch', 'razor-wind', 'swords-dance', 'cut'...              'dark'  \n",
       "4     'scratch', 'razor-wind', 'swords-dance', 'cut'...              'dark'  \n",
       "...                                                 ...                 ...  \n",
       "1276  'bind', 'body-slam', 'bite', 'hyper-beam', 'ea...  'dragon', 'ground'  \n",
       "1277  'bind', 'body-slam', 'bite', 'hyper-beam', 'ea...  'dragon', 'ground'  \n",
       "1278  'bind', 'body-slam', 'bite', 'hyper-beam', 'st...  'dragon', 'ground'  \n",
       "1279  'bind', 'body-slam', 'bite', 'hyper-beam', 'ea...  'dragon', 'ground'  \n",
       "1280  'bind', 'body-slam', 'bite', 'hyper-beam', 'ea...  'dragon', 'ground'  \n",
       "\n",
       "[1126 rows x 9 columns]"
      ]
     },
     "execution_count": 24,
     "metadata": {},
     "output_type": "execute_result"
    }
   ],
   "source": [
    "Final_Data = pd.read_csv('Final_Data.csv', index_col = [0])\n",
    "Final_Data"
   ]
  },
  {
   "attachments": {},
   "cell_type": "markdown",
   "metadata": {},
   "source": [
    "Random Forest Multi-Label Classifier"
   ]
  },
  {
   "cell_type": "code",
   "execution_count": 27,
   "metadata": {},
   "outputs": [
    {
     "ename": "ValueError",
     "evalue": "Found input variables with inconsistent numbers of samples: [1263, 1126]",
     "output_type": "error",
     "traceback": [
      "\u001b[0;31m---------------------------------------------------------------------------\u001b[0m",
      "\u001b[0;31mValueError\u001b[0m                                Traceback (most recent call last)",
      "\u001b[0;32m<ipython-input-27-27523f667259>\u001b[0m in \u001b[0;36m<module>\u001b[0;34m\u001b[0m\n\u001b[1;32m     16\u001b[0m \u001b[0;34m\u001b[0m\u001b[0m\n\u001b[1;32m     17\u001b[0m \u001b[0;31m# Split\u001b[0m\u001b[0;34m\u001b[0m\u001b[0;34m\u001b[0m\u001b[0;34m\u001b[0m\u001b[0m\n\u001b[0;32m---> 18\u001b[0;31m \u001b[0mX_train\u001b[0m\u001b[0;34m,\u001b[0m \u001b[0mX_test\u001b[0m\u001b[0;34m,\u001b[0m \u001b[0my_train\u001b[0m\u001b[0;34m,\u001b[0m \u001b[0my_test\u001b[0m \u001b[0;34m=\u001b[0m \u001b[0mtrain_test_split\u001b[0m\u001b[0;34m(\u001b[0m\u001b[0mX\u001b[0m\u001b[0;34m,\u001b[0m \u001b[0my_encoded\u001b[0m\u001b[0;34m,\u001b[0m \u001b[0mtest_size\u001b[0m\u001b[0;34m=\u001b[0m\u001b[0;36m0.2\u001b[0m\u001b[0;34m,\u001b[0m \u001b[0mrandom_state\u001b[0m\u001b[0;34m=\u001b[0m\u001b[0;36m42\u001b[0m\u001b[0;34m)\u001b[0m\u001b[0;34m\u001b[0m\u001b[0;34m\u001b[0m\u001b[0m\n\u001b[0m\u001b[1;32m     19\u001b[0m \u001b[0;34m\u001b[0m\u001b[0m\n\u001b[1;32m     20\u001b[0m \u001b[0;31m# One hot encoding\u001b[0m\u001b[0;34m\u001b[0m\u001b[0;34m\u001b[0m\u001b[0;34m\u001b[0m\u001b[0m\n",
      "\u001b[0;32m~/opt/anaconda3/envs/ADS500B/lib/python3.9/site-packages/sklearn/model_selection/_split.py\u001b[0m in \u001b[0;36mtrain_test_split\u001b[0;34m(test_size, train_size, random_state, shuffle, stratify, *arrays)\u001b[0m\n\u001b[1;32m   2428\u001b[0m         \u001b[0;32mraise\u001b[0m \u001b[0mValueError\u001b[0m\u001b[0;34m(\u001b[0m\u001b[0;34m\"At least one array required as input\"\u001b[0m\u001b[0;34m)\u001b[0m\u001b[0;34m\u001b[0m\u001b[0;34m\u001b[0m\u001b[0m\n\u001b[1;32m   2429\u001b[0m \u001b[0;34m\u001b[0m\u001b[0m\n\u001b[0;32m-> 2430\u001b[0;31m     \u001b[0marrays\u001b[0m \u001b[0;34m=\u001b[0m \u001b[0mindexable\u001b[0m\u001b[0;34m(\u001b[0m\u001b[0;34m*\u001b[0m\u001b[0marrays\u001b[0m\u001b[0;34m)\u001b[0m\u001b[0;34m\u001b[0m\u001b[0;34m\u001b[0m\u001b[0m\n\u001b[0m\u001b[1;32m   2431\u001b[0m \u001b[0;34m\u001b[0m\u001b[0m\n\u001b[1;32m   2432\u001b[0m     \u001b[0mn_samples\u001b[0m \u001b[0;34m=\u001b[0m \u001b[0m_num_samples\u001b[0m\u001b[0;34m(\u001b[0m\u001b[0marrays\u001b[0m\u001b[0;34m[\u001b[0m\u001b[0;36m0\u001b[0m\u001b[0;34m]\u001b[0m\u001b[0;34m)\u001b[0m\u001b[0;34m\u001b[0m\u001b[0;34m\u001b[0m\u001b[0m\n",
      "\u001b[0;32m~/opt/anaconda3/envs/ADS500B/lib/python3.9/site-packages/sklearn/utils/validation.py\u001b[0m in \u001b[0;36mindexable\u001b[0;34m(*iterables)\u001b[0m\n\u001b[1;32m    431\u001b[0m \u001b[0;34m\u001b[0m\u001b[0m\n\u001b[1;32m    432\u001b[0m     \u001b[0mresult\u001b[0m \u001b[0;34m=\u001b[0m \u001b[0;34m[\u001b[0m\u001b[0m_make_indexable\u001b[0m\u001b[0;34m(\u001b[0m\u001b[0mX\u001b[0m\u001b[0;34m)\u001b[0m \u001b[0;32mfor\u001b[0m \u001b[0mX\u001b[0m \u001b[0;32min\u001b[0m \u001b[0miterables\u001b[0m\u001b[0;34m]\u001b[0m\u001b[0;34m\u001b[0m\u001b[0;34m\u001b[0m\u001b[0m\n\u001b[0;32m--> 433\u001b[0;31m     \u001b[0mcheck_consistent_length\u001b[0m\u001b[0;34m(\u001b[0m\u001b[0;34m*\u001b[0m\u001b[0mresult\u001b[0m\u001b[0;34m)\u001b[0m\u001b[0;34m\u001b[0m\u001b[0;34m\u001b[0m\u001b[0m\n\u001b[0m\u001b[1;32m    434\u001b[0m     \u001b[0;32mreturn\u001b[0m \u001b[0mresult\u001b[0m\u001b[0;34m\u001b[0m\u001b[0;34m\u001b[0m\u001b[0m\n\u001b[1;32m    435\u001b[0m \u001b[0;34m\u001b[0m\u001b[0m\n",
      "\u001b[0;32m~/opt/anaconda3/envs/ADS500B/lib/python3.9/site-packages/sklearn/utils/validation.py\u001b[0m in \u001b[0;36mcheck_consistent_length\u001b[0;34m(*arrays)\u001b[0m\n\u001b[1;32m    385\u001b[0m     \u001b[0muniques\u001b[0m \u001b[0;34m=\u001b[0m \u001b[0mnp\u001b[0m\u001b[0;34m.\u001b[0m\u001b[0munique\u001b[0m\u001b[0;34m(\u001b[0m\u001b[0mlengths\u001b[0m\u001b[0;34m)\u001b[0m\u001b[0;34m\u001b[0m\u001b[0;34m\u001b[0m\u001b[0m\n\u001b[1;32m    386\u001b[0m     \u001b[0;32mif\u001b[0m \u001b[0mlen\u001b[0m\u001b[0;34m(\u001b[0m\u001b[0muniques\u001b[0m\u001b[0;34m)\u001b[0m \u001b[0;34m>\u001b[0m \u001b[0;36m1\u001b[0m\u001b[0;34m:\u001b[0m\u001b[0;34m\u001b[0m\u001b[0;34m\u001b[0m\u001b[0m\n\u001b[0;32m--> 387\u001b[0;31m         raise ValueError(\n\u001b[0m\u001b[1;32m    388\u001b[0m             \u001b[0;34m\"Found input variables with inconsistent numbers of samples: %r\"\u001b[0m\u001b[0;34m\u001b[0m\u001b[0;34m\u001b[0m\u001b[0m\n\u001b[1;32m    389\u001b[0m             \u001b[0;34m%\u001b[0m \u001b[0;34m[\u001b[0m\u001b[0mint\u001b[0m\u001b[0;34m(\u001b[0m\u001b[0ml\u001b[0m\u001b[0;34m)\u001b[0m \u001b[0;32mfor\u001b[0m \u001b[0ml\u001b[0m \u001b[0;32min\u001b[0m \u001b[0mlengths\u001b[0m\u001b[0;34m]\u001b[0m\u001b[0;34m\u001b[0m\u001b[0;34m\u001b[0m\u001b[0m\n",
      "\u001b[0;31mValueError\u001b[0m: Found input variables with inconsistent numbers of samples: [1263, 1126]"
     ]
    }
   ],
   "source": [
    "pokemon_data_encoded = Final_Data.copy()\n",
    "\n",
    "# MultiLabelBinarizer encode 'abilities'\n",
    "mlb_abilities = MultiLabelBinarizer()\n",
    "abilities_encoded = mlb_abilities.fit_transform(pokemon_data_encoded['abilities'])\n",
    "abilities_encoded_df = pd.DataFrame(abilities_encoded, columns=mlb_abilities.classes_)\n",
    "pokemon_data_encoded = pd.concat([pokemon_data_encoded.drop('abilities', axis=1), abilities_encoded_df], axis=1)\n",
    "\n",
    "# Separate features from the target\n",
    "X = pokemon_data_encoded.drop('types', axis=1)  \n",
    "y = Final_Data['types']  \n",
    "\n",
    "# MultiLabelBinarizer encode 'types'\n",
    "mlb_types = MultiLabelBinarizer()\n",
    "y_encoded = mlb_types.fit_transform(y)\n",
    "\n",
    "# Split \n",
    "X_train, X_test, y_train, y_test = train_test_split(X, y_encoded, test_size=0.2, random_state=42)\n",
    "\n",
    "# One hot encoding\n",
    "X_train = pd.get_dummies(X_train)\n",
    "X_test = pd.get_dummies(X_test)\n",
    "\n",
    "# Align \n",
    "X_train, X_test = X_train.align(X_test, join='left', axis=1)\n",
    "\n",
    "# Handle NaN \n",
    "X_train = X_train.fillna(0)\n",
    "X_test = X_test.fillna(0)\n",
    "\n",
    "# RFC\n",
    "clf = RandomForestClassifier(random_state=42)\n",
    "\n",
    "# Define hyperparameter grid\n",
    "param_grid = {\n",
    "    'n_estimators': [100, 200, 300, 500],\n",
    "    'max_depth': [None, 5, 10, 15],\n",
    "    'min_samples_split': [2, 5, 10],\n",
    "    'min_samples_leaf': [1, 2, 4],\n",
    "    'bootstrap': [True, False]\n",
    "}\n",
    "\n",
    "# Grid search\n",
    "grid_search = GridSearchCV(estimator = clf, param_grid = param_grid, \n",
    "                           cv = 3, n_jobs = -1, verbose = 2)\n",
    "\n",
    "grid_search.fit(X_train, y_train)\n",
    "\n",
    "# Get best estimator\n",
    "best_clf = grid_search.best_estimator_\n",
    "\n",
    "# Predictions\n",
    "y_pred = best_clf.predict(X_test)\n",
    "\n",
    "# Print\n",
    "print(classification_report(y_test, y_pred))"
   ]
  },
  {
   "attachments": {},
   "cell_type": "markdown",
   "metadata": {},
   "source": [
    "Moves added to encoding to enhance features"
   ]
  },
  {
   "cell_type": "code",
   "execution_count": null,
   "metadata": {},
   "outputs": [],
   "source": [
    "pokemon_data_encoded = Final_Data.copy()\n",
    "\n",
    "# Handle missing 'moves' data\n",
    "pokemon_data_encoded['moves'] = pokemon_data_encoded['moves'].apply(lambda x: x if isinstance(x, list) else [])\n",
    "\n",
    "# MultiLabelBinarizer encode 'abilities'\n",
    "mlb_abilities = MultiLabelBinarizer()\n",
    "abilities_encoded = mlb_abilities.fit_transform(pokemon_data_encoded['abilities'])\n",
    "abilities_encoded_df = pd.DataFrame(abilities_encoded, columns=mlb_abilities.classes_)\n",
    "pokemon_data_encoded = pd.concat([pokemon_data_encoded.drop('abilities', axis=1), abilities_encoded_df], axis=1)\n",
    "\n",
    "# MultiLabelBinarizer encode 'moves'\n",
    "mlb_moves = MultiLabelBinarizer()\n",
    "moves_encoded = mlb_moves.fit_transform(pokemon_data_encoded['moves'])\n",
    "moves_encoded_df = pd.DataFrame(moves_encoded, columns=mlb_moves.classes_)\n",
    "pokemon_data_encoded = pd.concat([pokemon_data_encoded.drop('moves', axis=1), moves_encoded_df], axis=1)\n",
    "\n",
    "# Separate features from the target\n",
    "X = pokemon_data_encoded.drop('types', axis=1)  \n",
    "y = pokemon_data['types']  \n",
    "\n",
    "# MultiLabelBinarizer encode 'types'\n",
    "mlb_types = MultiLabelBinarizer()\n",
    "y_encoded = mlb_types.fit_transform(y)\n",
    "\n",
    "# Split \n",
    "X_train, X_test, y_train, y_test = train_test_split(X, y_encoded, test_size=0.2, random_state=42)\n",
    "\n",
    "# One hot encoding\n",
    "X_train = pd.get_dummies(X_train)\n",
    "X_test = pd.get_dummies(X_test)\n",
    "\n",
    "# Align \n",
    "X_train, X_test = X_train.align(X_test, join='left', axis=1)\n",
    "\n",
    "# Handle NaN \n",
    "X_train = X_train.fillna(0)\n",
    "X_test = X_test.fillna(0)\n",
    "\n",
    "# RFC\n",
    "clf = RandomForestClassifier(random_state=42)\n",
    "\n",
    "# Define hyperparameter grid\n",
    "param_grid = {\n",
    "    'n_estimators': [100, 200, 300, 500],\n",
    "    'max_depth': [None, 5, 10, 15],\n",
    "    'min_samples_split': [2, 5, 10],\n",
    "    'min_samples_leaf': [1, 2, 4],\n",
    "    'bootstrap': [True, False]\n",
    "}\n",
    "\n",
    "# Grid search\n",
    "grid_search = GridSearchCV(estimator = clf, param_grid = param_grid, \n",
    "                           cv = 3, n_jobs = -1, verbose = 2)\n",
    "\n",
    "grid_search.fit(X_train, y_train)\n",
    "\n",
    "# Get best estimator\n",
    "best_clf = grid_search.best_estimator_\n",
    "\n",
    "# Predictions\n",
    "y_pred = best_clf.predict(X_test)\n",
    "\n",
    "# Print\n",
    "print(classification_report(y_test, y_pred))"
   ]
  },
  {
   "cell_type": "code",
   "execution_count": null,
   "metadata": {},
   "outputs": [],
   "source": [
    "from sklearn.metrics import accuracy_score\n",
    "accuracy_score(y_test,y_pred)"
   ]
  },
  {
   "attachments": {},
   "cell_type": "markdown",
   "metadata": {},
   "source": [
    "___________________________"
   ]
  },
  {
   "attachments": {},
   "cell_type": "markdown",
   "metadata": {},
   "source": [
    "### Creation of Flask App"
   ]
  },
  {
   "cell_type": "code",
   "execution_count": null,
   "metadata": {},
   "outputs": [],
   "source": [
    "import joblib\n",
    "joblib.dump(clf, 'Pokemon_model.pkl')"
   ]
  },
  {
   "cell_type": "code",
   "execution_count": null,
   "metadata": {},
   "outputs": [],
   "source": [
    "Pokemon_model = open('Pokemon_model.pkl','rb')\n",
    "clf_model = joblib.load(Pokemon_model)"
   ]
  },
  {
   "attachments": {},
   "cell_type": "markdown",
   "metadata": {},
   "source": [
    "Testing of other model methods"
   ]
  },
  {
   "attachments": {},
   "cell_type": "markdown",
   "metadata": {},
   "source": [
    "### Return Pokemon Data Feature\n"
   ]
  },
  {
   "cell_type": "code",
   "execution_count": 29,
   "metadata": {},
   "outputs": [],
   "source": [
    "pokemon_request = input(\"Enter Pokemon Name: \")"
   ]
  },
  {
   "cell_type": "code",
   "execution_count": 30,
   "metadata": {},
   "outputs": [
    {
     "data": {
      "text/plain": [
       "'bulbasaur'"
      ]
     },
     "execution_count": 30,
     "metadata": {},
     "output_type": "execute_result"
    }
   ],
   "source": [
    "pokemon_request"
   ]
  },
  {
   "cell_type": "code",
   "execution_count": 31,
   "metadata": {},
   "outputs": [
    {
     "name": "stdout",
     "output_type": "stream",
     "text": [
      "       pokemon  base_experience  height       name  order  weight  \\\n",
      "117  bulbasaur             64.0       7  bulbasaur      1      69   \n",
      "\n",
      "                     abilities  \\\n",
      "117  'overgrow', 'chlorophyll'   \n",
      "\n",
      "                                                 moves              types  \n",
      "117  'razor-wind', 'swords-dance', 'cut', 'bind', '...  'grass', 'poison'  \n"
     ]
    }
   ],
   "source": [
    "pokemon_output = Final_Data.loc[Final_Data['pokemon'] == pokemon_request]\n"
   ]
  },
  {
   "cell_type": "code",
   "execution_count": 33,
   "metadata": {},
   "outputs": [
    {
     "data": {
      "text/html": [
       "<div>\n",
       "<style scoped>\n",
       "    .dataframe tbody tr th:only-of-type {\n",
       "        vertical-align: middle;\n",
       "    }\n",
       "\n",
       "    .dataframe tbody tr th {\n",
       "        vertical-align: top;\n",
       "    }\n",
       "\n",
       "    .dataframe thead th {\n",
       "        text-align: right;\n",
       "    }\n",
       "</style>\n",
       "<table border=\"1\" class=\"dataframe\">\n",
       "  <thead>\n",
       "    <tr style=\"text-align: right;\">\n",
       "      <th></th>\n",
       "      <th>pokemon</th>\n",
       "      <th>base_experience</th>\n",
       "      <th>height</th>\n",
       "      <th>name</th>\n",
       "      <th>order</th>\n",
       "      <th>weight</th>\n",
       "      <th>abilities</th>\n",
       "      <th>moves</th>\n",
       "      <th>types</th>\n",
       "    </tr>\n",
       "  </thead>\n",
       "  <tbody>\n",
       "    <tr>\n",
       "      <th>117</th>\n",
       "      <td>bulbasaur</td>\n",
       "      <td>64.0</td>\n",
       "      <td>7</td>\n",
       "      <td>bulbasaur</td>\n",
       "      <td>1</td>\n",
       "      <td>69</td>\n",
       "      <td>'overgrow', 'chlorophyll'</td>\n",
       "      <td>'razor-wind', 'swords-dance', 'cut', 'bind', '...</td>\n",
       "      <td>'grass', 'poison'</td>\n",
       "    </tr>\n",
       "  </tbody>\n",
       "</table>\n",
       "</div>"
      ],
      "text/plain": [
       "       pokemon  base_experience  height       name  order  weight  \\\n",
       "117  bulbasaur             64.0       7  bulbasaur      1      69   \n",
       "\n",
       "                     abilities  \\\n",
       "117  'overgrow', 'chlorophyll'   \n",
       "\n",
       "                                                 moves              types  \n",
       "117  'razor-wind', 'swords-dance', 'cut', 'bind', '...  'grass', 'poison'  "
      ]
     },
     "execution_count": 33,
     "metadata": {},
     "output_type": "execute_result"
    }
   ],
   "source": [
    "pokemon_output"
   ]
  },
  {
   "cell_type": "code",
   "execution_count": null,
   "metadata": {},
   "outputs": [],
   "source": []
  }
 ],
 "metadata": {
  "kernelspec": {
   "display_name": "ADS500B",
   "language": "python",
   "name": "python3"
  },
  "language_info": {
   "codemirror_mode": {
    "name": "ipython",
    "version": 3
   },
   "file_extension": ".py",
   "mimetype": "text/x-python",
   "name": "python",
   "nbconvert_exporter": "python",
   "pygments_lexer": "ipython3",
   "version": "3.9.2"
  },
  "orig_nbformat": 4
 },
 "nbformat": 4,
 "nbformat_minor": 2
}
